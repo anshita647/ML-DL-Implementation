{
  "nbformat": 4,
  "nbformat_minor": 0,
  "metadata": {
    "colab": {
      "provenance": [],
      "authorship_tag": "ABX9TyN5tMKcJjPeFygrogeX7pEX",
      "include_colab_link": true
    },
    "kernelspec": {
      "name": "python3",
      "display_name": "Python 3"
    },
    "language_info": {
      "name": "python"
    }
  },
  "cells": [
    {
      "cell_type": "markdown",
      "metadata": {
        "id": "view-in-github",
        "colab_type": "text"
      },
      "source": [
        "<a href=\"https://colab.research.google.com/github/anshita647/ML-DL-Implementation/blob/main/Task6.ipynb\" target=\"_parent\"><img src=\"https://colab.research.google.com/assets/colab-badge.svg\" alt=\"Open In Colab\"/></a>"
      ]
    },
    {
      "cell_type": "markdown",
      "source": [
        "Implement Classification:  (Iris. Dataset)\n"
      ],
      "metadata": {
        "id": "iMjRg4HWWBl8"
      }
    },
    {
      "cell_type": "code",
      "execution_count": null,
      "metadata": {
        "id": "w2iavaI8VnKJ"
      },
      "outputs": [],
      "source": [
        "import numpy as np\n",
        "import pandas as pd\n",
        "import matplotlib.pyplot as plt\n",
        "\n",
        "from sklearn.model_selection import train_test_split\n",
        "from sklearn.metrics import accuracy_score\n",
        "from sklearn.datasets import load_iris\n",
        "\n",
        "from sklearn.linear_model import LogisticRegression\n",
        "from sklearn.svm import SVC\n",
        "from sklearn.ensemble import RandomForestClassifier\n",
        "from xgboost import XGBClassifier\n",
        "from sklearn.neural_network import MLPClassifier\n",
        "from sklearn.preprocessing import StandardScaler\n",
        "\n",
        "import tensorflow as tf\n",
        "from tensorflow.keras.models import Sequential\n",
        "from tensorflow.keras.layers import Dense, SimpleRNN, LSTM, GRU, Bidirectional\n",
        "from tensorflow.keras.utils import to_categorical\n",
        "from tensorflow.keras.layers import Input, Dense, SimpleRNN, LSTM, GRU, Bidirectional\n",
        "\n"
      ]
    },
    {
      "cell_type": "code",
      "source": [
        "# Load Dataset\n",
        "iris = load_iris()\n",
        "X = iris.data\n",
        "y = iris.target\n"
      ],
      "metadata": {
        "id": "F0ibTc1dWMoh"
      },
      "execution_count": null,
      "outputs": []
    },
    {
      "cell_type": "code",
      "source": [
        "# Train-Test Split\n",
        "X_train, X_test, y_train, y_test = train_test_split(\n",
        "    X, y, test_size=0.2, random_state=42, stratify=y\n",
        ")"
      ],
      "metadata": {
        "id": "8YrkyMvDWYPI"
      },
      "execution_count": null,
      "outputs": []
    },
    {
      "cell_type": "code",
      "source": [
        "#  Machine Learning Models\n",
        "ml_results = {}\n",
        "\n",
        "models = {\n",
        "    \"Logistic Regression\": LogisticRegression(max_iter=1000),\n",
        "    \"SVM\": SVC(),\n",
        "    \"Random Forest\": RandomForestClassifier(n_estimators=100, random_state=42),\n",
        "    \"XGBoost\": XGBClassifier(use_label_encoder=False, eval_metric=\"mlogloss\")\n",
        "}\n",
        "\n",
        "for name, model in models.items():\n",
        "    model.fit(X_train, y_train)\n",
        "    preds = model.predict(X_test)\n",
        "    acc = accuracy_score(y_test, preds)\n",
        "    ml_results[name] = acc\n",
        "    dl_results = {}\n"
      ],
      "metadata": {
        "colab": {
          "base_uri": "https://localhost:8080/"
        },
        "id": "RFwj8heuWdUd",
        "outputId": "07a0b1d5-6a2f-4f99-f30a-bebbc1367710"
      },
      "execution_count": null,
      "outputs": [
        {
          "output_type": "stream",
          "name": "stderr",
          "text": [
            "/usr/local/lib/python3.12/dist-packages/xgboost/training.py:183: UserWarning: [18:06:43] WARNING: /workspace/src/learner.cc:738: \n",
            "Parameters: { \"use_label_encoder\" } are not used.\n",
            "\n",
            "  bst.update(dtrain, iteration=i, fobj=obj)\n"
          ]
        }
      ]
    },
    {
      "cell_type": "code",
      "source": [
        "\n",
        "# MLP (Sklearn)\n",
        "mlp = MLPClassifier(hidden_layer_sizes=(64,32), max_iter=2000, random_state=42)\n",
        "mlp.fit(X_train, y_train)\n",
        "preds = mlp.predict(X_test)\n",
        "dl_results[\"MLP (Sklearn)\"] = accuracy_score(y_test, preds)\n",
        "\n",
        "# TensorFlow Models (need categorical labels)\n",
        "y_train_cat = to_categorical(y_train, num_classes=3)\n",
        "y_test_cat = to_categorical(y_test, num_classes=3)"
      ],
      "metadata": {
        "id": "6wZO7NqCXTyM"
      },
      "execution_count": null,
      "outputs": []
    },
    {
      "cell_type": "code",
      "source": [
        "# reshape input for RNNs: (samples, timesteps, features)\n",
        "X_train_rnn = np.expand_dims(X_train, axis=1)\n",
        "X_test_rnn = np.expand_dims(X_test, axis=1)\n",
        "\n",
        "def build_and_train(model, name):\n",
        "    model.compile(optimizer='adam', loss='categorical_crossentropy', metrics=['accuracy'])\n",
        "    model.fit(X_train_rnn, y_train_cat, epochs=50, verbose=0)\n",
        "    _, acc = model.evaluate(X_test_rnn, y_test_cat, verbose=0)\n",
        "    dl_results[name] = acc"
      ],
      "metadata": {
        "id": "PwJyEzbBXcJP"
      },
      "execution_count": null,
      "outputs": []
    },
    {
      "cell_type": "code",
      "source": [
        "rnn = Sequential([\n",
        "    Input(shape=(1,4)),\n",
        "    SimpleRNN(32),\n",
        "    Dense(3, activation='softmax')\n",
        "])\n",
        "build_and_train(rnn, \"RNN\")\n",
        "\n",
        "# LSTM\n",
        "lstm = Sequential([\n",
        "    Input(shape=(1,4)),\n",
        "    LSTM(32),\n",
        "    Dense(3, activation='softmax')\n",
        "])\n",
        "build_and_train(lstm, \"LSTM\")\n",
        "\n",
        "# BiLSTM\n",
        "bilstm = Sequential([\n",
        "    Input(shape=(1,4)),\n",
        "    Bidirectional(LSTM(32)),\n",
        "    Dense(3, activation='softmax')\n",
        "])\n",
        "build_and_train(bilstm, \"BiLSTM\")\n",
        "\n",
        "# GRU\n",
        "gru = Sequential([\n",
        "    Input(shape=(1,4)),\n",
        "    GRU(32),\n",
        "    Dense(3, activation='softmax')\n",
        "])\n",
        "build_and_train(gru, \"GRU\")\n",
        "\n",
        "# BiGRU\n",
        "bigru = Sequential([\n",
        "    Input(shape=(1,4)),\n",
        "    Bidirectional(GRU(32)),\n",
        "    Dense(3, activation='softmax')\n",
        "])\n",
        "build_and_train(bigru, \"BiGRU\")"
      ],
      "metadata": {
        "id": "bTW5RtS5XnP1"
      },
      "execution_count": null,
      "outputs": []
    },
    {
      "cell_type": "code",
      "source": [
        "print(\"\\n--- Machine Learning Models Accuracy ---\")\n",
        "print(pd.Series(ml_results))\n",
        "\n",
        "print(\"\\n--- Deep Learning Models Accuracy ---\")\n",
        "print(pd.Series(dl_results))"
      ],
      "metadata": {
        "colab": {
          "base_uri": "https://localhost:8080/"
        },
        "id": "_HxSmkpbXxwZ",
        "outputId": "6c5ddb4a-ea60-4992-a82f-f9369f1ca11e"
      },
      "execution_count": null,
      "outputs": [
        {
          "output_type": "stream",
          "name": "stdout",
          "text": [
            "\n",
            "--- Machine Learning Models Accuracy ---\n",
            "Logistic Regression    0.966667\n",
            "SVM                    0.966667\n",
            "Random Forest          0.900000\n",
            "XGBoost                0.933333\n",
            "dtype: float64\n",
            "\n",
            "--- Deep Learning Models Accuracy ---\n",
            "MLP (Sklearn)    1.000000\n",
            "RNN              0.966667\n",
            "LSTM             0.933333\n",
            "BiLSTM           1.000000\n",
            "GRU              1.000000\n",
            "BiGRU            0.966667\n",
            "dtype: float64\n"
          ]
        }
      ]
    },
    {
      "cell_type": "code",
      "source": [],
      "metadata": {
        "id": "zLQuwLviZDCU"
      },
      "execution_count": null,
      "outputs": []
    }
  ]
}