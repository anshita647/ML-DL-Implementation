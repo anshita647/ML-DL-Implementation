{
  "nbformat": 4,
  "nbformat_minor": 0,
  "metadata": {
    "colab": {
      "provenance": [],
      "authorship_tag": "ABX9TyM5+diV+SLG+eeexKx/1Y0e",
      "include_colab_link": true
    },
    "kernelspec": {
      "name": "python3",
      "display_name": "Python 3"
    },
    "language_info": {
      "name": "python"
    }
  },
  "cells": [
    {
      "cell_type": "markdown",
      "metadata": {
        "id": "view-in-github",
        "colab_type": "text"
      },
      "source": [
        "<a href=\"https://colab.research.google.com/github/anshita647/ML-DL-Implementation/blob/main/Task5.ipynb\" target=\"_parent\"><img src=\"https://colab.research.google.com/assets/colab-badge.svg\" alt=\"Open In Colab\"/></a>"
      ]
    },
    {
      "cell_type": "markdown",
      "source": [
        "Implement Regression:  (Student Score Dataset)"
      ],
      "metadata": {
        "id": "GkP2xAq6JXAM"
      }
    },
    {
      "cell_type": "code",
      "source": [
        "import numpy as np\n",
        "import pandas as pd\n",
        "import matplotlib.pyplot as plt\n",
        "\n",
        "from sklearn.model_selection import train_test_split\n",
        "from sklearn.metrics import mean_squared_error, r2_score\n",
        "\n",
        "from sklearn.linear_model import LinearRegression\n",
        "from sklearn.svm import SVR\n",
        "from sklearn.ensemble import RandomForestRegressor\n",
        "from xgboost import XGBRegressor\n",
        "from sklearn.neighbors import KNeighborsRegressor\n",
        "from sklearn.naive_bayes import GaussianNB\n",
        "from sklearn.preprocessing import StandardScaler\n",
        "\n",
        "from sklearn.neural_network import MLPRegressor\n",
        "import tensorflow as tf\n",
        "from tensorflow.keras.models import Sequential\n",
        "from tensorflow.keras.layers import Dense, SimpleRNN, LSTM, GRU, Bidirectional"
      ],
      "metadata": {
        "id": "QK6IYJ-oJSXe"
      },
      "execution_count": null,
      "outputs": []
    },
    {
      "cell_type": "code",
      "source": [
        "data = {\n",
        "    \"Hours\": [1.1, 2.0, 2.9, 3.3, 3.5, 3.8, 4.5, 5.1, 5.9, 6.9, 7.4, 8.0, 9.2],\n",
        "    \"Scores\": [10, 20, 30, 33, 35, 42, 50, 62, 65, 70, 75, 85, 95]\n",
        "}\n",
        "df = pd.DataFrame(data)\n",
        "print(\"Sample Data:\\n\", df.head())"
      ],
      "metadata": {
        "colab": {
          "base_uri": "https://localhost:8080/"
        },
        "id": "VWv0RKIXKQ6r",
        "outputId": "b1be8ae3-a7c3-4892-afa2-faf17964681b"
      },
      "execution_count": null,
      "outputs": [
        {
          "output_type": "stream",
          "name": "stdout",
          "text": [
            "Sample Data:\n",
            "    Hours  Scores\n",
            "0    1.1      10\n",
            "1    2.0      20\n",
            "2    2.9      30\n",
            "3    3.3      33\n",
            "4    3.5      35\n"
          ]
        }
      ]
    },
    {
      "cell_type": "code",
      "source": [
        "#  Split Data\n",
        "X = df[['Hours']].values\n",
        "y = df['Scores'].values\n",
        "\n",
        "X_train, X_test, y_train, y_test = train_test_split(X, y, test_size=0.2, random_state=42)"
      ],
      "metadata": {
        "id": "H_7ojetgK2HW"
      },
      "execution_count": null,
      "outputs": []
    },
    {
      "cell_type": "code",
      "source": [
        "#  Machine Learning Models\n",
        "models = {\n",
        "    \"Linear Regression\": LinearRegression(),\n",
        "    \"SVM\": SVR(kernel='rbf'),\n",
        "    \"Random Forest\": RandomForestRegressor(n_estimators=100, random_state=42),\n",
        "    \"XGBoost\": XGBRegressor(objective='reg:squarederror', random_state=42),\n",
        "    \"KNN\": KNeighborsRegressor(n_neighbors=3),\n",
        "}\n",
        "\n",
        "results = {}\n",
        "\n",
        "for name, model in models.items():\n",
        "    model.fit(X_train, y_train)\n",
        "    preds = model.predict(X_test)\n",
        "    mse = mean_squared_error(y_test, preds)\n",
        "    r2 = r2_score(y_test, preds)\n",
        "    results[name] = {\"MSE\": mse, \"R2\": r2}\n",
        "    # Naive Bayes (approx for regression)\n",
        "scaler = StandardScaler()\n",
        "X_train_scaled = scaler.fit_transform(X_train)\n",
        "X_test_scaled = scaler.transform(X_test)\n",
        "nb = GaussianNB()\n",
        "y_train_int = np.round(y_train)\n",
        "nb.fit(X_train_scaled, y_train_int)\n",
        "preds = nb.predict(X_test_scaled)\n",
        "results[\"Naive Bayes (approx)\"] = {\"MSE\": mean_squared_error(y_test, preds), \"R2\": r2_score(y_test, preds)}\n"
      ],
      "metadata": {
        "id": "Do1YCLQwLYqy"
      },
      "execution_count": null,
      "outputs": []
    },
    {
      "cell_type": "code",
      "source": [
        "# MLP (Sklearn)\n",
        "mlp = MLPRegressor(hidden_layer_sizes=(64,32), max_iter=2000, random_state=42)\n",
        "mlp.fit(X_train, y_train)\n",
        "preds = mlp.predict(X_test)\n",
        "results[\"MLP (Sklearn)\"] = {\"MSE\": mean_squared_error(y_test, preds), \"R2\": r2_score(y_test, preds)}\n"
      ],
      "metadata": {
        "id": "1hHM6ccrM4kD"
      },
      "execution_count": null,
      "outputs": []
    },
    {
      "cell_type": "code",
      "source": [
        "# Neural Nets with TensorFlow\n",
        "X_train_rnn = np.expand_dims(X_train, axis=1)\n",
        "X_test_rnn = np.expand_dims(X_test, axis=1)\n",
        "\n",
        "def build_and_train(model, name):\n",
        "    model.compile(optimizer='adam', loss='mse')\n",
        "    model.fit(X_train_rnn, y_train, epochs=100, verbose=0)\n",
        "    preds = model.predict(X_test_rnn).flatten()\n",
        "    results[name] = {\"MSE\": mean_squared_error(y_test, preds), \"R2\": r2_score(y_test, preds)}\n"
      ],
      "metadata": {
        "id": "9sGo1tjiOS63"
      },
      "execution_count": null,
      "outputs": []
    },
    {
      "cell_type": "code",
      "source": [
        "# RNN\n",
        "rnn = Sequential([SimpleRNN(32, input_shape=(1,1)), Dense(1)])\n",
        "build_and_train(rnn, \"RNN\")\n",
        "\n",
        "# LSTM\n",
        "lstm = Sequential([LSTM(32, input_shape=(1,1)), Dense(1)])\n",
        "build_and_train(lstm, \"LSTM\")\n",
        "\n",
        "# BiLSTM\n",
        "bilstm = Sequential([Bidirectional(LSTM(32), input_shape=(1,1)), Dense(1)])\n",
        "build_and_train(bilstm, \"BiLSTM\")\n",
        "\n",
        "# GRU\n",
        "gru = Sequential([GRU(32, input_shape=(1,1)), Dense(1)])\n",
        "build_and_train(gru, \"GRU\")\n",
        "\n",
        "# BiGRU\n",
        "bigru = Sequential([Bidirectional(GRU(32), input_shape=(1,1)), Dense(1)])\n",
        "build_and_train(bigru, \"BiGRU\")\n"
      ],
      "metadata": {
        "colab": {
          "base_uri": "https://localhost:8080/"
        },
        "id": "AfxpPdoLPAPX",
        "outputId": "4d4e6ea9-d388-494e-9fb1-59c388c57159"
      },
      "execution_count": null,
      "outputs": [
        {
          "output_type": "stream",
          "name": "stderr",
          "text": [
            "/usr/local/lib/python3.12/dist-packages/keras/src/layers/rnn/rnn.py:199: UserWarning: Do not pass an `input_shape`/`input_dim` argument to a layer. When using Sequential models, prefer using an `Input(shape)` object as the first layer in the model instead.\n",
            "  super().__init__(**kwargs)\n"
          ]
        },
        {
          "output_type": "stream",
          "name": "stdout",
          "text": [
            "\u001b[1m1/1\u001b[0m \u001b[32m━━━━━━━━━━━━━━━━━━━━\u001b[0m\u001b[37m\u001b[0m \u001b[1m0s\u001b[0m 144ms/step\n"
          ]
        },
        {
          "output_type": "stream",
          "name": "stderr",
          "text": [
            "/usr/local/lib/python3.12/dist-packages/keras/src/layers/rnn/rnn.py:199: UserWarning: Do not pass an `input_shape`/`input_dim` argument to a layer. When using Sequential models, prefer using an `Input(shape)` object as the first layer in the model instead.\n",
            "  super().__init__(**kwargs)\n"
          ]
        },
        {
          "output_type": "stream",
          "name": "stdout",
          "text": [
            "\u001b[1m1/1\u001b[0m \u001b[32m━━━━━━━━━━━━━━━━━━━━\u001b[0m\u001b[37m\u001b[0m \u001b[1m0s\u001b[0m 159ms/step\n"
          ]
        },
        {
          "output_type": "stream",
          "name": "stderr",
          "text": [
            "/usr/local/lib/python3.12/dist-packages/keras/src/layers/rnn/bidirectional.py:107: UserWarning: Do not pass an `input_shape`/`input_dim` argument to a layer. When using Sequential models, prefer using an `Input(shape)` object as the first layer in the model instead.\n",
            "  super().__init__(**kwargs)\n"
          ]
        },
        {
          "output_type": "stream",
          "name": "stdout",
          "text": [
            "\u001b[1m1/1\u001b[0m \u001b[32m━━━━━━━━━━━━━━━━━━━━\u001b[0m\u001b[37m\u001b[0m \u001b[1m0s\u001b[0m 413ms/step\n"
          ]
        },
        {
          "output_type": "stream",
          "name": "stderr",
          "text": [
            "/usr/local/lib/python3.12/dist-packages/keras/src/layers/rnn/rnn.py:199: UserWarning: Do not pass an `input_shape`/`input_dim` argument to a layer. When using Sequential models, prefer using an `Input(shape)` object as the first layer in the model instead.\n",
            "  super().__init__(**kwargs)\n"
          ]
        },
        {
          "output_type": "stream",
          "name": "stdout",
          "text": [
            "\u001b[1m1/1\u001b[0m \u001b[32m━━━━━━━━━━━━━━━━━━━━\u001b[0m\u001b[37m\u001b[0m \u001b[1m0s\u001b[0m 193ms/step\n"
          ]
        },
        {
          "output_type": "stream",
          "name": "stderr",
          "text": [
            "/usr/local/lib/python3.12/dist-packages/keras/src/layers/rnn/bidirectional.py:107: UserWarning: Do not pass an `input_shape`/`input_dim` argument to a layer. When using Sequential models, prefer using an `Input(shape)` object as the first layer in the model instead.\n",
            "  super().__init__(**kwargs)\n",
            "WARNING:tensorflow:5 out of the last 5 calls to <function TensorFlowTrainer.make_predict_function.<locals>.one_step_on_data_distributed at 0x7f9da373d760> triggered tf.function retracing. Tracing is expensive and the excessive number of tracings could be due to (1) creating @tf.function repeatedly in a loop, (2) passing tensors with different shapes, (3) passing Python objects instead of tensors. For (1), please define your @tf.function outside of the loop. For (2), @tf.function has reduce_retracing=True option that can avoid unnecessary retracing. For (3), please refer to https://www.tensorflow.org/guide/function#controlling_retracing and https://www.tensorflow.org/api_docs/python/tf/function for  more details.\n"
          ]
        },
        {
          "output_type": "stream",
          "name": "stdout",
          "text": [
            "\u001b[1m1/1\u001b[0m \u001b[32m━━━━━━━━━━━━━━━━━━━━\u001b[0m\u001b[37m\u001b[0m \u001b[1m0s\u001b[0m 384ms/step\n"
          ]
        }
      ]
    },
    {
      "cell_type": "code",
      "source": [
        "print(\"\\nModel Performance (MSE & R2):\")\n",
        "print(pd.DataFrame(results).T)"
      ],
      "metadata": {
        "colab": {
          "base_uri": "https://localhost:8080/"
        },
        "id": "eT9zBz7qPHmX",
        "outputId": "61d8cee2-37c4-4efa-e059-6671e59707ca"
      },
      "execution_count": null,
      "outputs": [
        {
          "output_type": "stream",
          "name": "stdout",
          "text": [
            "\n",
            "Model Performance (MSE & R2):\n",
            "                              MSE        R2\n",
            "Linear Regression        5.210564  0.995038\n",
            "SVM                    970.837089  0.075393\n",
            "Random Forest           77.990000  0.925724\n",
            "XGBoost                 75.004807  0.928567\n",
            "KNN                    121.222222  0.884550\n",
            "Naive Bayes (approx)    75.000000  0.928571\n",
            "MLP (Sklearn)           28.050319  0.973285\n",
            "RNN                   3624.182861 -2.451603\n",
            "LSTM                  3860.424072 -2.676594\n",
            "BiLSTM                3669.956787 -2.495197\n",
            "GRU                   3626.408447 -2.453722\n",
            "BiGRU                 3432.808594 -2.269341\n"
          ]
        }
      ]
    },
    {
      "cell_type": "code",
      "source": [],
      "metadata": {
        "id": "qyPStEgFPdv5"
      },
      "execution_count": null,
      "outputs": []
    }
  ]
}