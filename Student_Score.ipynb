{
  "nbformat": 4,
  "nbformat_minor": 0,
  "metadata": {
    "colab": {
      "provenance": [],
      "authorship_tag": "ABX9TyMYp6mHSixELnGOejOqblgX",
      "include_colab_link": true
    },
    "kernelspec": {
      "name": "python3",
      "display_name": "Python 3"
    },
    "language_info": {
      "name": "python"
    }
  },
  "cells": [
    {
      "cell_type": "markdown",
      "metadata": {
        "id": "view-in-github",
        "colab_type": "text"
      },
      "source": [
        "<a href=\"https://colab.research.google.com/github/anshita647/ML-DL-Implementation/blob/main/Student_Score.ipynb\" target=\"_parent\"><img src=\"https://colab.research.google.com/assets/colab-badge.svg\" alt=\"Open In Colab\"/></a>"
      ]
    },
    {
      "cell_type": "markdown",
      "source": [
        "Implement Regression:  (Student Score Dataset)"
      ],
      "metadata": {
        "id": "GkP2xAq6JXAM"
      }
    },
    {
      "cell_type": "code",
      "source": [
        "import numpy as np\n",
        "import pandas as pd\n",
        "from sklearn.model_selection import train_test_split\n",
        "from sklearn.metrics import mean_squared_error, r2_score\n",
        "from sklearn.linear_model import LinearRegression\n",
        "from sklearn.svm import SVR\n",
        "from sklearn.ensemble import RandomForestRegressor\n",
        "from xgboost import XGBRegressor\n",
        "from sklearn.neighbors import KNeighborsRegressor\n",
        "from sklearn.naive_bayes import GaussianNB\n",
        "from sklearn.preprocessing import StandardScaler\n",
        "from sklearn.neural_network import MLPRegressor\n",
        "import tensorflow as tf\n",
        "from tensorflow.keras.models import Sequential\n",
        "from tensorflow.keras.layers import Dense, SimpleRNN, LSTM, GRU, Bidirectional, Input"
      ],
      "metadata": {
        "id": "QK6IYJ-oJSXe"
      },
      "execution_count": null,
      "outputs": []
    },
    {
      "cell_type": "code",
      "source": [
        "data = {\n",
        "    \"Hours\": [1.1, 2.0, 2.9, 3.3, 3.5, 3.8, 4.5, 5.1, 5.9, 6.9, 7.4, 8.0, 9.2],\n",
        "    \"Scores\": [10, 20, 30, 33, 35, 42, 50, 62, 65, 70, 75, 85, 95]\n",
        "}\n",
        "df = pd.DataFrame(data)\n",
        "print(\"Sample Data:\\n\", df.head())"
      ],
      "metadata": {
        "colab": {
          "base_uri": "https://localhost:8080/"
        },
        "id": "VWv0RKIXKQ6r",
        "outputId": "e36a0ce2-b4e0-46cd-cf0e-6e08b65f263c"
      },
      "execution_count": null,
      "outputs": [
        {
          "output_type": "stream",
          "name": "stdout",
          "text": [
            "Sample Data:\n",
            "    Hours  Scores\n",
            "0    1.1      10\n",
            "1    2.0      20\n",
            "2    2.9      30\n",
            "3    3.3      33\n",
            "4    3.5      35\n"
          ]
        }
      ]
    },
    {
      "cell_type": "code",
      "source": [
        "X = df[['Hours']].values\n",
        "y = df['Scores'].values\n",
        "\n",
        "X_train, X_test, y_train, y_test = train_test_split(X, y, test_size=0.2, random_state=42)"
      ],
      "metadata": {
        "id": "H_7ojetgK2HW"
      },
      "execution_count": null,
      "outputs": []
    },
    {
      "cell_type": "code",
      "source": [
        "#  Machine Learning Models\n",
        "models = {\n",
        "    \"Linear Regression\": LinearRegression(),\n",
        "    \"SVM\": SVR(kernel='rbf'),\n",
        "    \"Random Forest\": RandomForestRegressor(n_estimators=100, random_state=42),\n",
        "    \"XGBoost\": XGBRegressor(objective='reg:squarederror', random_state=42),\n",
        "    \"KNN\": KNeighborsRegressor(n_neighbors=3),\n",
        "}\n",
        "\n",
        "results = {}\n",
        "for name, model in models.items():\n",
        "    model.fit(X_train, y_train)\n",
        "    preds = model.predict(X_test)\n",
        "    results[name] = {\"MSE\": mean_squared_error(y_test, preds), \"R2\": r2_score(y_test, preds)}\n",
        "\n",
        "scaler = StandardScaler()\n",
        "X_train_scaled = scaler.fit_transform(X_train)\n",
        "X_test_scaled = scaler.transform(X_test)\n",
        "nb = GaussianNB()\n",
        "y_train_int = np.round(y_train)\n",
        "nb.fit(X_train_scaled, y_train_int)\n",
        "preds = nb.predict(X_test_scaled)\n",
        "results[\"Naive Bayes (approx)\"] = {\"MSE\": mean_squared_error(y_test, preds), \"R2\": r2_score(y_test, preds)}\n"
      ],
      "metadata": {
        "id": "Do1YCLQwLYqy"
      },
      "execution_count": null,
      "outputs": []
    },
    {
      "cell_type": "code",
      "source": [
        "mlp = MLPRegressor(hidden_layer_sizes=(64,32), max_iter=2000, random_state=42)\n",
        "mlp.fit(X_train, y_train)\n",
        "preds = mlp.predict(X_test)\n",
        "results[\"MLP (Sklearn)\"] = {\"MSE\": mean_squared_error(y_test, preds), \"R2\": r2_score(y_test, preds)}\n"
      ],
      "metadata": {
        "id": "1hHM6ccrM4kD"
      },
      "execution_count": null,
      "outputs": []
    },
    {
      "cell_type": "code",
      "source": [
        "X_train_rnn = np.expand_dims(X_train, axis=1)\n",
        "X_test_rnn = np.expand_dims(X_test, axis=1)\n",
        "\n",
        "def build_and_train(model, name):\n",
        "    model.compile(optimizer='adam', loss='mse')\n",
        "    model.fit(X_train_rnn, y_train, epochs=100, verbose=0)\n",
        "    preds = model.predict(X_test_rnn).flatten()\n",
        "    results[name] = {\"MSE\": mean_squared_error(y_test, preds), \"R2\": r2_score(y_test, preds)}\n"
      ],
      "metadata": {
        "id": "9sGo1tjiOS63"
      },
      "execution_count": null,
      "outputs": []
    },
    {
      "cell_type": "code",
      "source": [
        "# RNN\n",
        "rnn = Sequential([\n",
        "    Input(shape=(1,1)),\n",
        "    SimpleRNN(32),\n",
        "    Dense(1)\n",
        "])\n",
        "build_and_train(rnn, \"RNN\")\n",
        "\n",
        "# LSTM\n",
        "lstm = Sequential([\n",
        "    Input(shape=(1,1)),\n",
        "    LSTM(32),\n",
        "    Dense(1)\n",
        "])\n",
        "build_and_train(lstm, \"LSTM\")\n",
        "\n",
        "# BiLSTM\n",
        "bilstm = Sequential([\n",
        "    Input(shape=(1,1)),\n",
        "    Bidirectional(LSTM(32)),\n",
        "    Dense(1)\n",
        "])\n",
        "build_and_train(bilstm, \"BiLSTM\")\n",
        "\n",
        "# GRU\n",
        "gru = Sequential([\n",
        "    Input(shape=(1,1)),\n",
        "    GRU(32),\n",
        "    Dense(1)\n",
        "])\n",
        "build_and_train(gru, \"GRU\")\n",
        "\n",
        "# BiGRU\n",
        "bigru = Sequential([\n",
        "    Input(shape=(1,1)),\n",
        "    Bidirectional(GRU(32)),\n",
        "    Dense(1)\n",
        "])\n",
        "build_and_train(bigru, \"BiGRU\")\n"
      ],
      "metadata": {
        "colab": {
          "base_uri": "https://localhost:8080/"
        },
        "id": "AfxpPdoLPAPX",
        "outputId": "dd119622-64b3-4760-9598-353c6c407064"
      },
      "execution_count": null,
      "outputs": [
        {
          "output_type": "stream",
          "name": "stdout",
          "text": [
            "\u001b[1m1/1\u001b[0m \u001b[32m━━━━━━━━━━━━━━━━━━━━\u001b[0m\u001b[37m\u001b[0m \u001b[1m0s\u001b[0m 153ms/step\n",
            "\u001b[1m1/1\u001b[0m \u001b[32m━━━━━━━━━━━━━━━━━━━━\u001b[0m\u001b[37m\u001b[0m \u001b[1m0s\u001b[0m 256ms/step\n",
            "\u001b[1m1/1\u001b[0m \u001b[32m━━━━━━━━━━━━━━━━━━━━\u001b[0m\u001b[37m\u001b[0m \u001b[1m0s\u001b[0m 315ms/step\n",
            "\u001b[1m1/1\u001b[0m \u001b[32m━━━━━━━━━━━━━━━━━━━━\u001b[0m\u001b[37m\u001b[0m \u001b[1m0s\u001b[0m 235ms/step\n",
            "\u001b[1m1/1\u001b[0m \u001b[32m━━━━━━━━━━━━━━━━━━━━\u001b[0m\u001b[37m\u001b[0m \u001b[1m1s\u001b[0m 561ms/step\n"
          ]
        }
      ]
    },
    {
      "cell_type": "code",
      "source": [
        "print(\"\\nModel Performance (MSE & R2):\")\n",
        "print(pd.DataFrame(results).T)"
      ],
      "metadata": {
        "colab": {
          "base_uri": "https://localhost:8080/"
        },
        "id": "eT9zBz7qPHmX",
        "outputId": "06368089-daf5-4f18-e5fb-dcc55ad680e7"
      },
      "execution_count": null,
      "outputs": [
        {
          "output_type": "stream",
          "name": "stdout",
          "text": [
            "\n",
            "Model Performance (MSE & R2):\n",
            "                              MSE        R2\n",
            "Linear Regression        5.210564  0.995038\n",
            "SVM                    970.837089  0.075393\n",
            "Random Forest           77.990000  0.925724\n",
            "XGBoost                 75.004807  0.928567\n",
            "KNN                    121.222222  0.884550\n",
            "Naive Bayes (approx)    75.000000  0.928571\n",
            "MLP (Sklearn)           28.050319  0.973285\n",
            "RNN                   3582.270264 -2.411686\n",
            "LSTM                  3821.587891 -2.639607\n",
            "BiLSTM                3673.175781 -2.498263\n",
            "GRU                   3670.811523 -2.496011\n",
            "BiGRU                 3518.896240 -2.351330\n"
          ]
        }
      ]
    },
    {
      "cell_type": "code",
      "source": [],
      "metadata": {
        "id": "qyPStEgFPdv5"
      },
      "execution_count": null,
      "outputs": []
    }
  ]
}